{
 "cells": [
  {
   "cell_type": "markdown",
   "id": "5b0fd2a7",
   "metadata": {},
   "source": [
    "## Using Python to Integrate MongoDB Data into an ETL Process\n",
    "Modern Data Warehousing and Analytics solutions frequently use languages like Python or Scala to extract data from numerous sources, including relational database management systems, NoSQL database systems, real-time streaming endpoints and Data Lakes. These languages can then be used to perform many types of transformation before then loading the data into a variety of destinations including file systems and data warehouses. This data can then be consumed by data scientists or business analysts.\n",
    "\n",
    "In this lab you will build upon the **Northwind_DW2** dimensional database from Lab 3; however, you will be integrating new data sourced from an instance of MongoDB. The new data will be concerned with new business processes; inventory and purchasing. You will continue to interact with both the source systems (MongoDB and MySQL), and the destination system (the Northwind_DW2 data warehouse) from a remote client running Python (Jupyter Notebooks). \n",
    "\n",
    "Just as in Lab 3, you will fetch data into Pandas DataFrames, perform all the necessary transformations in-memory on the client, and then push the newly transformed DataFrame to the RDBMS data warehouse using a Pandas function that will create the table and fill it with data with a single operation.\n",
    "\n",
    "### Prerequisites:\n",
    "#### Import the Necessary Libraries"
   ]
  },
  {
   "cell_type": "code",
   "execution_count": null,
   "id": "e8b95ba5",
   "metadata": {},
   "outputs": [],
   "source": [
    "import os\n",
    "import json\n",
    "import numpy\n",
    "import datetime\n",
    "import pandas as pd\n",
    "\n",
    "import pymongo\n",
    "from sqlalchemy import create_engine"
   ]
  },
  {
   "cell_type": "markdown",
   "id": "23c629e4",
   "metadata": {},
   "source": [
    "#### Declare & Assign Connection Variables for the MongoDB Server, the MySQL Server & Databases with which You'll be Working "
   ]
  },
  {
   "cell_type": "code",
   "execution_count": null,
   "id": "28890801",
   "metadata": {},
   "outputs": [],
   "source": [
    "mysql_uid = \"jtupitza\"\n",
    "mysql_pwd = \"password\"\n",
    "mysql_hostname = \"localhost\"\n",
    "\n",
    "atlas_cluster_name = \"cluster_name.xxxxx\"\n",
    "atlas_user_name = \"\"\n",
    "atlas_password = \"password\"\n",
    "\n",
    "conn_str = {\"local\" : f\"mongodb://localhost:27017/\",\n",
    "    \"atlas\" : f\"mongodb+srv://{atlas_user_name}:{atlas_password}@{atlas_cluster_name}.mongodb.net\"\n",
    "}\n",
    "\n",
    "src_dbname = \"northwind_purchasing\"\n",
    "dst_dbname = \"northwind_dw2\"\n",
    "\n",
    "print(f\"Local Connection String: {conn_str['local']}\")\n",
    "print(f\"Atlas Connection String: {conn_str['atlas']}\")"
   ]
  },
  {
   "cell_type": "markdown",
   "id": "21928a06",
   "metadata": {},
   "source": [
    "#### Define Functions for Getting Data From and Setting Data Into Databases"
   ]
  },
  {
   "cell_type": "code",
   "execution_count": null,
   "id": "eabb5f6a",
   "metadata": {},
   "outputs": [],
   "source": [
    "def get_sql_dataframe(user_id, pwd, host_name, db_name, sql_query):\n",
    "    '''Create a connection to the MySQL database'''\n",
    "    conn_str = f\"mysql+pymysql://{user_id}:{pwd}@{host_name}/{db_name}\"\n",
    "    sqlEngine = create_engine(conn_str, pool_recycle=3600)\n",
    "    \n",
    "    '''Invoke the pd.read_sql() function to query the database, and fill a Pandas DataFrame.'''\n",
    "    conn = sqlEngine.connect()\n",
    "    dframe = pd.read_sql(sql_query, conn);\n",
    "    conn.close()\n",
    "    \n",
    "    return dframe\n",
    "\n",
    "\n",
    "def get_mongo_dataframe(connect_str, db_name, collection, query):\n",
    "    '''Create a connection to MongoDB'''\n",
    "    client = pymongo.MongoClient(connect_str)\n",
    "    \n",
    "    '''Query MongoDB, and fill a python list with documents to create a DataFrame'''\n",
    "    db = client[db_name]\n",
    "    dframe = pd.DataFrame(list(db[collection].find(query)))\n",
    "    dframe.drop(['_id'], axis=1, inplace=True)\n",
    "    client.close()\n",
    "    return dframe\n",
    "\n",
    "\n",
    "def set_dataframe(user_id, pwd, host_name, db_name, df, table_name, pk_column, db_operation):\n",
    "    '''Create a connection to the MySQL database'''\n",
    "    conn_str = f\"mysql+pymysql://{user_id}:{pwd}@{host_name}/{db_name}\"\n",
    "    sqlEngine = create_engine(conn_str, pool_recycle=3600)\n",
    "    connection = sqlEngine.connect()\n",
    "    \n",
    "    '''Invoke the Pandas DataFrame .to_sql( ) function to either create, or append to, a table'''\n",
    "    if db_operation == \"insert\":\n",
    "        df.to_sql(table_name, con=connection, index=False, if_exists='replace')\n",
    "        sqlEngine.execute(f\"ALTER TABLE {table_name} ADD PRIMARY KEY ({pk_column});\")\n",
    "            \n",
    "    elif db_operation == \"update\":\n",
    "        df.to_sql(table_name, con=connection, index=False, if_exists='append')\n",
    "    \n",
    "    connection.close()"
   ]
  },
  {
   "cell_type": "markdown",
   "id": "9a7a3a43",
   "metadata": {},
   "source": [
    "#### Populate MongoDB with Source Data\n",
    "You only need to run this cell once; however, the operation is *idempotent*.  In other words, it can be run multiple times without changing the end result."
   ]
  },
  {
   "cell_type": "code",
   "execution_count": null,
   "id": "9772c78a",
   "metadata": {},
   "outputs": [],
   "source": [
    "client = pymongo.MongoClient(conn_str[\"atlas\"])\n",
    "db = client[src_dbname]\n",
    "\n",
    "# Gets the path of the Current Working Directory for this Notebook, and then Appends the 'data' directory.\n",
    "data_dir = os.path.join(os.getcwd(), 'data')\n",
    "\n",
    "json_files = {\"suppliers\" : 'northwind_suppliers.json',\n",
    "              \"invoices\" : 'northwind_invoices.json',\n",
    "              \"purchase_orders\" : 'northwind_purchase_orders.json',\n",
    "              \"inventory_transactions\" : 'northwind_inventory_transactions.json'\n",
    "             }\n",
    "\n",
    "for file in json_files:\n",
    "    db.drop_collection(file)\n",
    "    json_file = os.path.join(data_dir, json_files[file])\n",
    "    with open(json_file, 'r') as openfile:\n",
    "        json_object = json.load(openfile)\n",
    "        file = db[file]\n",
    "        result = file.insert_many(json_object)\n",
    "        #print(f\"{file} was successfully loaded.\")\n",
    "\n",
    "        \n",
    "client.close()        "
   ]
  },
  {
   "cell_type": "markdown",
   "id": "41747a78",
   "metadata": {},
   "source": [
    "### 1.0. Create and Populate the New Dimension Tables\n",
    "#### 1.1. Extract Data from the Source MongoDB Collections Into DataFrames"
   ]
  },
  {
   "cell_type": "code",
   "execution_count": null,
   "id": "a4957b66",
   "metadata": {},
   "outputs": [],
   "source": [
    "query = {} # Select all elements (columns), and all documents (rows).\n",
    "collection = \"suppliers\"\n",
    "\n",
    "df_suppliers = get_mongo_dataframe(conn_str['atlas'], src_dbname, collection, query)  # Specify 'atlas', or 'local'\n",
    "df_suppliers.head(2)"
   ]
  },
  {
   "cell_type": "code",
   "execution_count": null,
   "id": "5d79acc8",
   "metadata": {
    "scrolled": true
   },
   "outputs": [],
   "source": [
    "# TODO: Extract data from the \"Invoices\" collection"
   ]
  },
  {
   "cell_type": "markdown",
   "id": "10272202",
   "metadata": {},
   "source": [
    "#### 1.2. Perform Any Necessary Transformations to the DataFrames"
   ]
  },
  {
   "cell_type": "code",
   "execution_count": null,
   "id": "d84ba2db",
   "metadata": {},
   "outputs": [],
   "source": [
    "df_suppliers.rename(columns={\"id\":\"supplier_key\"}, inplace=True)\n",
    "df_suppliers.head(2)"
   ]
  },
  {
   "cell_type": "code",
   "execution_count": null,
   "id": "6bb8e1e6",
   "metadata": {
    "scrolled": true
   },
   "outputs": [],
   "source": [
    "# TODO: Perform any required transformations to the \"Invoices\" dataframe"
   ]
  },
  {
   "cell_type": "markdown",
   "id": "2bd16f44",
   "metadata": {},
   "source": [
    "#### 1.3. Load the Transformed DataFrames into the New Data Warehouse by Creating New Tables\n",
    "\n",
    "Here we will call our **set_dataframe( )** function to create each dimension table. This function expects a number of parameters including the usual connection information (e.g., user_id, password, MySQL server name and database), the *table_name* we need to assign to the table, the *pandas DataFrame* we crafted to define & populate the table, the *name* we need to assign to the *primary_key* column, and finally, the database operation (insert or update). "
   ]
  },
  {
   "cell_type": "code",
   "execution_count": null,
   "id": "6c5d4291",
   "metadata": {},
   "outputs": [],
   "source": [
    "dataframe = df_suppliers\n",
    "table_name = 'dim_suppliers'\n",
    "primary_key = 'supplier_key'\n",
    "db_operation = \"insert\"\n",
    "\n",
    "set_dataframe(mysql_uid, mysql_pwd, mysql_hostname, dst_dbname, dataframe, table_name, primary_key, db_operation)"
   ]
  },
  {
   "cell_type": "code",
   "execution_count": null,
   "id": "28460874",
   "metadata": {},
   "outputs": [],
   "source": [
    "# TODO: Upload the \"Invoices\" dataframe to create the new \"dim_invoices\" dimension table"
   ]
  },
  {
   "cell_type": "markdown",
   "id": "c2411d8e",
   "metadata": {},
   "source": [
    "#### 1.4. Validate that the New Dimension Tables were Created."
   ]
  },
  {
   "cell_type": "code",
   "execution_count": null,
   "id": "4e4ed928",
   "metadata": {},
   "outputs": [],
   "source": [
    "sql_suppliers = \"SELECT * FROM northwind_dw2.dim_suppliers;\"\n",
    "df_dim_suppliers = get_sql_dataframe(mysql_uid, mysql_pwd, mysql_hostname, dst_dbname, sql_suppliers)\n",
    "df_dim_suppliers.head(2)"
   ]
  },
  {
   "cell_type": "code",
   "execution_count": null,
   "id": "b4e5737a",
   "metadata": {},
   "outputs": [],
   "source": [
    "# TODO: Validate the new \"dim_invoices\" table in the northwind_dw2 data warehouse."
   ]
  },
  {
   "cell_type": "markdown",
   "id": "b015eb8e",
   "metadata": {},
   "source": [
    "### 2.0. Create and Populate the New Fact Tables\n",
    "#### 2.1. Extract Data from the Source MongoDB Collections Into DataFrames"
   ]
  },
  {
   "cell_type": "code",
   "execution_count": null,
   "id": "3d73c1f4",
   "metadata": {},
   "outputs": [],
   "source": [
    "query = {} # Select all elements (columns), and all documents (rows).\n",
    "\n",
    "collection = \"purchase_orders\"\n",
    "\n",
    "df_pos = get_mongo_dataframe(conn_str['atlas'], src_dbname, collection, query)\n",
    "df_pos.head(2)"
   ]
  },
  {
   "cell_type": "code",
   "execution_count": null,
   "id": "a9c5e338",
   "metadata": {
    "scrolled": true
   },
   "outputs": [],
   "source": [
    "# TODO: Extract data for your new \"Inventory Transactions\" Fact Table"
   ]
  },
  {
   "cell_type": "markdown",
   "id": "6ef6c013",
   "metadata": {},
   "source": [
    "#### 2.2. Get the Data from the Date Dimension Table.\n",
    "First, fetch the Surrogate Primary Key (date_key) and the Business Key (full_date) from the Date Dimension table using the **get_dataframe()** function. Also, be certain to cast the **full_date** column to the **datetime64** data type using the **.astype()** function that is native to Pandas DataFrame columns."
   ]
  },
  {
   "cell_type": "code",
   "execution_count": null,
   "id": "c2f7c6c0",
   "metadata": {},
   "outputs": [],
   "source": [
    "sql_dim_date = \"SELECT date_key, full_date FROM northwind_dw2.dim_date;\"\n",
    "df_dim_date = get_sql_dataframe(mysql_uid, mysql_pwd, mysql_hostname, dst_dbname, sql_dim_date)\n",
    "df_dim_date.full_date = df_dim_date.full_date.astype('datetime64').dt.date\n",
    "df_dim_date.head(2)"
   ]
  },
  {
   "cell_type": "markdown",
   "id": "637a44de",
   "metadata": {},
   "source": [
    "##### 2.3. Lookup the DateKeys from the Date Dimension Table.\n",
    "2.3.1. Next, for each date typed column in the purchase orders fact tables, lookup the corresponding Surrogate Primary Key column."
   ]
  },
  {
   "cell_type": "code",
   "execution_count": null,
   "id": "f27a5f68",
   "metadata": {},
   "outputs": [],
   "source": [
    "# Lookup the Surrogate Primary Key (date_key) that Corresponds to the \"submitted_date\" Column.\n",
    "df_dim_submitted_date = df_dim_date.rename(columns={\"date_key\" : \"submitted_date_key\", \"full_date\" : \"submitted_date\"})\n",
    "df_pos.submitted_date = df_pos.submitted_date.astype('datetime64').dt.date\n",
    "df_pos = pd.merge(df_pos, df_dim_submitted_date, on='submitted_date', how='left')\n",
    "df_pos.drop(['submitted_date'], axis=1, inplace=True)\n",
    "df_pos.head(2)"
   ]
  },
  {
   "cell_type": "code",
   "execution_count": null,
   "id": "cf261cd4",
   "metadata": {},
   "outputs": [],
   "source": [
    "# Lookup the Surrogate Primary Key (date_key) that Corresponds to the \"creation_date\" Column."
   ]
  },
  {
   "cell_type": "code",
   "execution_count": null,
   "id": "71b34ef1",
   "metadata": {},
   "outputs": [],
   "source": [
    "# Lookup the Surrogate Primary Key (date_key) that Corresponds to the \"po_detail_date_received\" Column."
   ]
  },
  {
   "cell_type": "code",
   "execution_count": null,
   "id": "d3f436d6",
   "metadata": {},
   "outputs": [],
   "source": [
    "# Lookup the Surrogate Primary Key (date_key) that Corresponds to the \"approved_date\" Column."
   ]
  },
  {
   "cell_type": "markdown",
   "id": "b0525b9e",
   "metadata": {},
   "source": [
    "2.3.2. Then, for each date typed column in the inventory transaction fact tables, lookup the corresponding Surrogate Primary Key column."
   ]
  },
  {
   "cell_type": "code",
   "execution_count": null,
   "id": "863ac310",
   "metadata": {},
   "outputs": [],
   "source": [
    "# Lookup the Surrogate Primary Key (date_key) that Corresponds to the \"transaction_created_date\" Column.\n",
    "df_dim_tran_created_date = df_dim_date.rename(columns={\"date_key\" : \"transaction_created_date_key\", \"full_date\" : \"transaction_created_date\"})\n",
    "df_inventory.transaction_created_date = df_inventory.transaction_created_date.astype('datetime64').dt.date.astype('datetime64')\n",
    "df_inventory = pd.merge(df_inventory, df_dim_tran_created_date, on='transaction_created_date', how='left')\n",
    "df_inventory.drop(['transaction_created_date'], axis=1, inplace=True)\n",
    "df_inventory.head(2)"
   ]
  },
  {
   "cell_type": "code",
   "execution_count": null,
   "id": "896afa60",
   "metadata": {},
   "outputs": [],
   "source": [
    "# Lookup the Surrogate Primary Key (date_key) that Corresponds to the \"transaction_modified_date\" Column."
   ]
  },
  {
   "cell_type": "markdown",
   "id": "d53ef721",
   "metadata": {},
   "source": [
    "#### 2.4. Perform Any Necessary Transformations to the DataFrames"
   ]
  },
  {
   "cell_type": "code",
   "execution_count": null,
   "id": "977189aa",
   "metadata": {},
   "outputs": [],
   "source": [
    "# Rename the Foreign Key Columns\n",
    "column_name_map = {\"purchase_order_id\" : \"purchase_order_key\",\n",
    "                   \"supplier_id\" : \"supplier_key\",\n",
    "                   \"po_detail_product_id\" : \"product_key\",\n",
    "                   \"po_detail_inventory_id\" : \"inventory_key\"\n",
    "                  }\n",
    "\n",
    "df_pos.rename(columns=column_name_map, inplace=True)\n",
    "\n",
    "# Reorder the Columns\n",
    "reordered_columns = ['purchase_order_key','supplier_key','product_key','inventory_key','created_by'\n",
    "                     ,'submitted_date_key','creation_date_key','po_detail_date_received_key','purchase_order_status'\n",
    "                     ,'po_detail_posted_to_inventory','po_detail_unit_cost','po_detail_quantity','shipping_fee'\n",
    "                     ,'taxes','payment_date','payment_amount','approved_by','approved_date_key','submitted_by']\n",
    "\n",
    "df_pos = df_pos[reordered_columns]\n",
    "\n",
    "# Insert a new column, with an ever-incrementing numeric value, to serve as the primary key.\n",
    "df_pos.insert(0, \"fact_purchase_order_key\", range(1, df_pos.shape[0]+1))\n",
    "df_pos.head(2)"
   ]
  },
  {
   "cell_type": "code",
   "execution_count": null,
   "id": "f5312f33",
   "metadata": {},
   "outputs": [],
   "source": [
    "# TODO: Perform any necessary transformations for the 'Inventory Transactions' Tact Table."
   ]
  },
  {
   "cell_type": "markdown",
   "id": "3f7a226d",
   "metadata": {},
   "source": [
    "#### 2.5. Load Newly Transformed MongoDB Data into the Northwind_DW2 Data Warehouse"
   ]
  },
  {
   "cell_type": "code",
   "execution_count": null,
   "id": "cbfe8e62",
   "metadata": {},
   "outputs": [],
   "source": [
    "dataframe = df_pos\n",
    "table_name = 'fact_purchase_orders'\n",
    "primary_key = 'fact_purchase_order_key'\n",
    "db_operation = \"insert\"\n",
    "\n",
    "set_dataframe(mysql_uid, mysql_pwd, mysql_hostname, dst_dbname, dataframe, table_name, primary_key, db_operation)"
   ]
  },
  {
   "cell_type": "code",
   "execution_count": null,
   "id": "caf15520",
   "metadata": {},
   "outputs": [],
   "source": [
    "# TODO: Upload the \"Inventory Transaction\" dataframe to create the new \"fact_inventory_transactions\" fact table. "
   ]
  },
  {
   "cell_type": "markdown",
   "id": "4c58a3d2",
   "metadata": {},
   "source": [
    "#### 2.6. Validate that the New Fact Tables were Created"
   ]
  },
  {
   "cell_type": "code",
   "execution_count": null,
   "id": "962a5636",
   "metadata": {},
   "outputs": [],
   "source": [
    "sql_purchase_orders = \"SELECT * FROM northwind_dw2.fact_purchase_orders;\"\n",
    "df_fact_purchase_orders = get_sql_dataframe(mysql_uid, mysql_pwd, mysql_hostname, dst_dbname, sql_purchase_orders)\n",
    "df_fact_purchase_orders.head(2)"
   ]
  },
  {
   "cell_type": "code",
   "execution_count": null,
   "id": "f48a84cd",
   "metadata": {},
   "outputs": [],
   "source": [
    "# TODO: Validate the correctness of the new \"Inventory Transactions\" fact table."
   ]
  }
 ],
 "metadata": {
  "kernelspec": {
   "display_name": "Python 3 (ipykernel)",
   "language": "python",
   "name": "python3"
  },
  "language_info": {
   "codemirror_mode": {
    "name": "ipython",
    "version": 3
   },
   "file_extension": ".py",
   "mimetype": "text/x-python",
   "name": "python",
   "nbconvert_exporter": "python",
   "pygments_lexer": "ipython3",
   "version": "3.9.12"
  }
 },
 "nbformat": 4,
 "nbformat_minor": 5
}
