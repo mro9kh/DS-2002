{
 "cells": [
  {
   "cell_type": "markdown",
   "id": "224886b1",
   "metadata": {},
   "source": [
    "## Using Python to Query MongoDB\n",
    "This notebook demonstrates additional MongoDB querying technicques using the **pymongo** library.  As it's name implies, pymongo is the MongoDB library for Python, and its **documentation** can be found here: https://pymongo.readthedocs.io/en/stable/index.html\n",
    "\n",
    "### 1.0. Prerequisites\n",
    "This demonstration uses an instance of **MongoDB Atlas** *(the MongoDB cloud service)*; therefore, you must first create a **free** *(Shared)* instance of that service. This can be accomplished by following the instructions at: https://docs.atlas.mongodb.com/tutorial/create-new-cluster/.\n",
    "\n",
    "If you prefer to use a local instance of MongoDB then you will have to import the **trips.json** file to create the collection we will be working with.  This can either be accomplished using **MongoDB Compass**, or with sample code in the **06-Python-MongoDB-ETL** notebook.\n",
    "\n",
    "#### 1.1. Install the *pymongo* libary into your *python* environment by executing the following command in a *Terminal window*\n",
    "-  python -m pip install pymongo[srv]\n",
    "\n",
    "#### 1.2. Import the libaries that you'll be working with in the notebook"
   ]
  },
  {
   "cell_type": "code",
   "execution_count": null,
   "id": "ef522937",
   "metadata": {},
   "outputs": [],
   "source": [
    "import os\n",
    "import datetime\n",
    "import pymongo\n",
    "import pandas as pd"
   ]
  },
  {
   "cell_type": "markdown",
   "id": "83d1e183",
   "metadata": {},
   "source": [
    "### 2.0. Connecting to the MongoDB Instance"
   ]
  },
  {
   "cell_type": "code",
   "execution_count": null,
   "id": "7c9db2a3",
   "metadata": {},
   "outputs": [],
   "source": [
    "host_name = \"localhost\"\n",
    "port = \"27017\"\n",
    "\n",
    "atlas_cluster_name = \"cluster_name.xxxxx\"\n",
    "atlas_default_dbname = \"local\"\n",
    "atlas_user_name = \"\"\n",
    "atlas_password = \"password\""
   ]
  },
  {
   "cell_type": "code",
   "execution_count": null,
   "id": "db9bfb3c",
   "metadata": {},
   "outputs": [],
   "source": [
    "conn_str = {\n",
    "    \"local\" : f\"mongodb://{host_name}:{port}/\",\n",
    "    \"atlas\" : f\"mongodb+srv://{atlas_user_name}:{atlas_password}@{atlas_cluster_name}.mongodb.net/{atlas_default_dbname}\"\n",
    "}\n",
    "\n",
    "client = pymongo.MongoClient(conn_str[\"atlas\"])\n",
    "\n",
    "print(f\"Local Connection String: {conn_str['local']}\")\n",
    "print(f\"Atlas Connection String: {conn_str['atlas']}\")"
   ]
  },
  {
   "cell_type": "markdown",
   "id": "c7f7c37c",
   "metadata": {},
   "source": [
    "#### 2.1. Interogate the MongoDB Atlas instance for the databases it hosts."
   ]
  },
  {
   "cell_type": "code",
   "execution_count": null,
   "id": "a6d3b5f0",
   "metadata": {},
   "outputs": [],
   "source": [
    "client.list_database_names()"
   ]
  },
  {
   "cell_type": "markdown",
   "id": "041367cc",
   "metadata": {},
   "source": [
    "#### 2.2. Connect to the \"*sample_training*\" database, and interogate it for the the collections it contains."
   ]
  },
  {
   "cell_type": "code",
   "execution_count": null,
   "id": "2bd7814e",
   "metadata": {},
   "outputs": [],
   "source": [
    "db_name = \"sample_training\"\n",
    "\n",
    "db = client[db_name]\n",
    "db.list_collection_names()"
   ]
  },
  {
   "cell_type": "markdown",
   "id": "7e2a7d89",
   "metadata": {},
   "source": [
    "#### 2.3. Connect to the **trips** collection where we will be exploring a variety of querying techniques.\n",
    "For example, the following query makes use of the **find_one()** method to select the first document in the collection for the purpose of inspecting the structure and contents of a sample document.  Because each document may have a different schema, this single document can only give us a partial understanding of what the collection may contain. Notice that passing the *collection name* to the *database* object reference **db[  ]** returns a reference to the *collection* object."
   ]
  },
  {
   "cell_type": "code",
   "execution_count": null,
   "id": "9e08b4d2",
   "metadata": {},
   "outputs": [],
   "source": [
    "collection = \"trips\"\n",
    "\n",
    "trips = db[collection]\n",
    "trips.find_one()"
   ]
  },
  {
   "cell_type": "markdown",
   "id": "06d23def",
   "metadata": {},
   "source": [
    "### 3.0. Using the MongoDB Query Language (MQL)\n",
    "\n",
    "The **find()** method returns a **cursor** containing all documents from the **collection** that match the filtering **conditions** that were provided. A **cursor** is required to *iterate* over the results because MongoDB manages **collections of documents** that contain **fields** rather than **tables of rows** that contain **columns** as we saw when studying relational database management systems like Microsoft SQL Server, Oracle and MySQL.\n",
    "\n",
    "#### 3.1. Specifying Conditions and Projections\n",
    "When querying MongoDB, the **find()** method of the **collection** object accepts two possible parameters. First, one or more **conditions** are used to *filter* or restrict the documents that are returned. Second, and optionally, a **projection** can be defined to control which **fields** that are returned. The **conditions** are the equivalent of a SQL query's *ON, WHERE* and *HAVING* clauses, and the **projection** is the equivalent of a SQL query's *SELECT* list.\n",
    "\n",
    "The MongoDB (JSON) query syntax includes numerous conditional operators, all of which begin with the **\\$** character (e.g., **\\$lt** *(less than)*, **\\$gt** *(greater than)*, **\\$lte** *(less than or equal to)*, **\\$gte** *(greater than or equal to)*). These operators can be used either alone or in concert with one another to perform exact matches and/or range matches.\n",
    "\n",
    "For example, the following query **excludes** the *_id* field and **includes** the *tripduration, bikeid and birth year* fields where the **tripduration** is *greater than* 90 seconds and *less than* 100 seconds, and the **birth year** is greater than or equal to *1970*. The results are then **sorted** by **trip duration** in descending order."
   ]
  },
  {
   "cell_type": "code",
   "execution_count": null,
   "id": "213a554a",
   "metadata": {},
   "outputs": [],
   "source": [
    "# The SELECT list -----------------------------------------------\n",
    "projection = {\"_id\": 0, \"tripduration\": 1, \"bikeid\": 1, \"birth year\": 1}\n",
    "\n",
    "# The WHERE clause ----------------------------------------------\n",
    "conditions = {\"tripduration\":{\"$gt\": 90, \"$lt\": 100}, \"birth year\":{\"$gte\": 1970}}\n",
    "\n",
    "# The ORDER BY clause -------------------------------------------\n",
    "orderby = [(\"tripduration\", -1)]\n",
    "\n",
    "for trip in trips.find(conditions, projection).sort(orderby):\n",
    "    print(trip)"
   ]
  },
  {
   "cell_type": "markdown",
   "id": "67804fef",
   "metadata": {},
   "source": [
    "##### 3.1.1. Using the Pandas DataFrame\n",
    "To make interacting with the *collection of documents* that are returned by the **find()** method much easier, we can use the Python **list()** method to *package* each document returned by the cursor into a Python **list** object that can then be passed to the *Pandas* **DataFrame()** constructor. This technique is very usefull for interacting with document collections having a common subset of fields available for **projection**.  "
   ]
  },
  {
   "cell_type": "code",
   "execution_count": null,
   "id": "a4c1a93a",
   "metadata": {},
   "outputs": [],
   "source": [
    "df = pd.DataFrame( list( db.trips.find(conditions, projection).sort(orderby) ) )\n",
    "df"
   ]
  },
  {
   "cell_type": "markdown",
   "id": "a61937a9",
   "metadata": {},
   "source": [
    "#### 3.1.2. Using Logical Operators\n",
    "In structuring a list of **conditions**, it is implicit that the conditions are **cumulative**. In other words, each conditional expression builds upon all former conditions using **AND** logical operation.  It is also possible to express **OR** logical operation using either the **\\$in**, or **\\$or** operators.\n",
    "\n",
    "First, the **\\$in** operator functions identically to the **IN** operator of the Structured Query Language (SQL) that's used to interact with relational database management systems like Microsoft SQL Server, Oracle, MySQL and PostgreSQL in that its functionality enables matching multiple values for a single key (field).  In the following query, all documents are returned where the **birth year** field contains either the value **1936, 1939** *or* **1943**."
   ]
  },
  {
   "cell_type": "code",
   "execution_count": null,
   "id": "922eea90",
   "metadata": {},
   "outputs": [],
   "source": [
    "conditions = {\"birth year\" : {\"$in\" : [1936, 1939, 1943]}}\n",
    "    \n",
    "df = pd.DataFrame( list(db.trips.find(conditions, projection).sort(orderby)) )\n",
    "df"
   ]
  },
  {
   "cell_type": "markdown",
   "id": "25a658dc",
   "metadata": {},
   "source": [
    "Conversely, the **\\$nin** operator is used to express **NOT IN** logical operation. The following query returns all documents where the **birth year** field contains any values other than *1960, 1970* **or** *1980*. Also, here we rely on the **head()** function of the Pandas DataFrame object to specify the number of documents to return from the top *(head)* of the result-set; the default number of rows is 5."
   ]
  },
  {
   "cell_type": "code",
   "execution_count": null,
   "id": "06546019",
   "metadata": {},
   "outputs": [],
   "source": [
    "conditions = {\"birth year\" : {\"$nin\" : [1960, 1970, 1980]}}\n",
    "\n",
    "df = pd.DataFrame( list(db.trips.find(conditions, projection).sort(orderby) ) )\n",
    "df.head()"
   ]
  },
  {
   "cell_type": "markdown",
   "id": "0bf9ce19",
   "metadata": {},
   "source": [
    "Where it becomes necessary to match values regarding multiple keys (fields), the **\\$or** operator can be used in a manner that's identical to the **OR** operator of the **SQL** language. The following query returns all documents where the **birth year** field contains the value *1988* **OR** the **start station id** field contains the value contains the value *270*.  We also illustrate the **limit()** function being used to return a specified number of documents from the **top** of the result-set."
   ]
  },
  {
   "cell_type": "code",
   "execution_count": null,
   "id": "f7301be2",
   "metadata": {},
   "outputs": [],
   "source": [
    "projection = {\"_id\": 0, \"start station id\": 1, \"birth year\": 1, \"tripduration\": 1}\n",
    "conditions = {\"$or\" : [{\"birth year\" : 1988}, {\"start station id\" : 270}]}\n",
    "num_rows = 7\n",
    "\n",
    "df = pd.DataFrame( list(db.trips.find(conditions, projection).sort(orderby).limit(num_rows) ) )\n",
    "df"
   ]
  },
  {
   "cell_type": "markdown",
   "id": "a504bce3",
   "metadata": {},
   "source": [
    "What's more, the **\\$not** metaconditional operator can be used in concert with many other conditionals for the sake of *negating* the expression."
   ]
  },
  {
   "cell_type": "code",
   "execution_count": null,
   "id": "7be6f850",
   "metadata": {},
   "outputs": [],
   "source": [
    "condition = {\"birth year\" : {\"$not\" : {\"$in\" : [1960, 1965, 1970, 1975, 1980]}}}\n",
    "projection = {\"_id\": 0, \"usertype\": 1, \"birth year\": 1}\n",
    "\n",
    "df = pd.DataFrame( list(db.trips.find(conditions, projection).sort(orderby).limit(num_rows) ) )\n",
    "df"
   ]
  },
  {
   "cell_type": "markdown",
   "id": "5f98795c",
   "metadata": {},
   "source": [
    "### 4.0. Using the MongoDB Aggregation Framework\n",
    "The aggregation framework enables using a *pipeline* construct where the result of each element is passed to the next.\n",
    "\n",
    "#### 4.1. The Match and Project Stages:  \n",
    "In our first task we illustrate simply duplicating the behavior of the *MongoDB Query Language (MQL)* queries we've already seen. The following cell demonstrates how the **\\$project** operator works in concert with the **\\$match** operator to return the same results as an MQL query that specifies returning the **start station id** and **birth year** fields **where** the **birth year** is equal to **1941**."
   ]
  },
  {
   "cell_type": "code",
   "execution_count": null,
   "id": "d53c380f",
   "metadata": {},
   "outputs": [],
   "source": [
    "df = pd.DataFrame( list(\n",
    "    \n",
    "    db.trips.aggregate([\n",
    "        {\"$project\": {\"start station id\": 1, \"birth year\": 1, \"_id\": 0}},\n",
    "        {\"$match\": {\"birth year\": 1941}}\n",
    "    ])\n",
    "    \n",
    "))\n",
    "df"
   ]
  },
  {
   "cell_type": "markdown",
   "id": "ff27e434",
   "metadata": {},
   "source": [
    "#### 4.2. The Group Stage\n",
    "While the code listing above doesn't illustrate the power of the aggregation framework, the following demonstrates how the aggregation framework enables **grouping** document collections by specific criteria. \n",
    "- In the first example below we demonstrate how to enumerate all the unique values in the **birth year** field greater than or equal to 1990\n",
    "- Then we show how to calculate the **count** of documents **having** the same **birth year**, returning only the **top 10 birth years** with the greatest **count**."
   ]
  },
  {
   "cell_type": "code",
   "execution_count": null,
   "id": "2b7d8eb5",
   "metadata": {},
   "outputs": [],
   "source": [
    "df = pd.DataFrame( list(\n",
    "    \n",
    "    db.trips.aggregate([\n",
    "        {\"$project\": {\"birth year\": 1, \"_id\": 0}},\n",
    "        {\"$match\": {\"birth year\": {\"$gte\": 1990}}},\n",
    "        {\"$group\": {\"_id\": \"$birth year\"} \n",
    "        }\n",
    "    ])\n",
    "    \n",
    "))\n",
    "df"
   ]
  },
  {
   "cell_type": "code",
   "execution_count": null,
   "id": "31b8b458",
   "metadata": {
    "scrolled": true
   },
   "outputs": [],
   "source": [
    "df = pd.DataFrame( list(\n",
    "    \n",
    "    db.trips.aggregate([\n",
    "        {\"$project\": {\"birth year\": 1, \"_id\": 0}},\n",
    "        {\"$match\": {\"birth year\": {\"$gte\": 1990}}},\n",
    "        {\"$group\": {\"_id\": \"$birth year\",\n",
    "                    \"count\": {\"$sum\": 1}\n",
    "                   }\n",
    "        },\n",
    "        {\"$sort\": {\"count\": -1}},\n",
    "        {\"$limit\": 10}\n",
    "    ])\n",
    "    \n",
    "))\n",
    "df"
   ]
  }
 ],
 "metadata": {
  "kernelspec": {
   "display_name": "Python 3 (ipykernel)",
   "language": "python",
   "name": "python3"
  },
  "language_info": {
   "codemirror_mode": {
    "name": "ipython",
    "version": 3
   },
   "file_extension": ".py",
   "mimetype": "text/x-python",
   "name": "python",
   "nbconvert_exporter": "python",
   "pygments_lexer": "ipython3",
   "version": "3.9.12"
  }
 },
 "nbformat": 4,
 "nbformat_minor": 5
}
